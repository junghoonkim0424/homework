{
 "cells": [
  {
   "cell_type": "code",
   "execution_count": 8,
   "metadata": {
    "collapsed": false
   },
   "outputs": [
    {
     "name": "stdout",
     "output_type": "stream",
     "text": [
      "length: 54\n",
      "A count: 16\n",
      "T count: 21\n",
      "AT content is 0.6851851851851852\n"
     ]
    }
   ],
   "source": [
    "#Part 1. page 39 to 41\n",
    "#calculating AT content\n",
    "my_dna = \"ACTGATCGATTACGTATAGTATTTGCTATCATACATATATATCGATGCGTTCAT\"\n",
    "length= len(my_dna)\n",
    "a_count= my_dna.count('A')\n",
    "t_count = my_dna.count('T')\n",
    "\n",
    "print(\"length: \" + str(length))\n",
    "print(\"A count: \" + str(a_count))\n",
    "print(\"T count: \" + str(t_count))\n",
    "\n",
    "at_content=(a_count + t_count)/ length\n",
    "print(\"AT content is \" + str(at_content))\n",
    "#test_dna=\"ATGC\"\n",
    "#length=len(test_dna)\n",
    "#a_count= test_dna.count('A')\n",
    "#t_count=test_dna.count('T')\n",
    "\n"
   ]
  },
  {
   "cell_type": "code",
   "execution_count": 10,
   "metadata": {
    "collapsed": false
   },
   "outputs": [
    {
     "name": "stdout",
     "output_type": "stream",
     "text": [
      "ACTcATCcATTACcTATAcTATTTcCTATCATACATATATATCcATcCcTTCAT\n",
      "ACTCATCCATTACCTATACTATTTCCTATCATACATATATATCCATCCCTTCAT\n"
     ]
    }
   ],
   "source": [
    "#Part 1. Complementing DNA\n",
    "my_dna = \"ACTGATCGATTACGTATAGTATTTGCTATCATACATATATATCGATGCGTTCAT\"\n",
    "replacementAT=my_dna.replace('A','t')\n",
    "replacementTA=my_dna.replace('T','a')\n",
    "replacementCG=my_dna.replace('C','g')\n",
    "replacementGC=my_dna.replace('G','c')\n",
    "print(replacementGC)\n",
    "print(replacementGC.upper())"
   ]
  },
  {
   "cell_type": "code",
   "execution_count": 16,
   "metadata": {
    "collapsed": false
   },
   "outputs": [
    {
     "name": "stdout",
     "output_type": "stream",
     "text": [
      "length of fragment one is 22\n",
      "length of fragment two is 33\n"
     ]
    }
   ],
   "source": [
    "#part 1. Restriction fragment lengths\n",
    "my_dna = \"ACTGATCGATTACGTATAGTAGAATTCTATCATACATATATATCGATGCGTTCAT\"\n",
    "frag1_length = my_dna.find(\"GAATTC\") + 1\n",
    "frag2_length = len(my_dna) - frag1_length\n",
    "print(\"length of fragment one is \" + str(frag1_length))\n",
    "print(\"length of fragment two is \" + str(frag2_length))\n"
   ]
  },
  {
   "cell_type": "code",
   "execution_count": 26,
   "metadata": {
    "collapsed": false,
    "scrolled": true
   },
   "outputs": [
    {
     "name": "stdout",
     "output_type": "stream",
     "text": [
      "77.23577235772358\n",
      "ATCGATCGATCGATCGACTGACTAGTCATAGCTATGCATGTAGCTACTCGATCGATCGATCGatcgatcgatcgatcgatcgatcatgctATCATCGATCGATATCGATGCATCGACTACTAT\n"
     ]
    }
   ],
   "source": [
    "#Part 1. Splicing out introns, part one.two three\n",
    "my_dna = \"ATCGATCGATCGATCGACTGACTAGTCATAGCTATGCATGTAGCTACTCGATCGATCGATCGATCGATCGATCGATCGATCGATCATGCTATCATCGATCGATATCGATGCATCGACTACTAT\"\n",
    "exon1= my_dna[0:62]\n",
    "intron = my_dna[62:90]\n",
    "exon2=my_dna[90:10000]\n",
    "#print(exon1 +exon2)\n",
    "coding_length=len(exon1+exon2)\n",
    "total_length=len(my_dna)\n",
    "print(100 * coding_length/ total_length)\n",
    "print(exon1 + intron.lower() + exon2)\n"
   ]
  },
  {
   "cell_type": "code",
   "execution_count": 2,
   "metadata": {
    "collapsed": false
   },
   "outputs": [
    {
     "data": {
      "text/plain": [
       "28"
      ]
     },
     "execution_count": 2,
     "metadata": {},
     "output_type": "execute_result"
    }
   ],
   "source": [
    "#part 2. Splitting genomic DNA pg 70.\n",
    "dna_file = open(\"/home/eeb177-student/Desktop/Chapter 3/exercises/genomic_dna.txt\")\n",
    "my_dna=dna_file.read()\n",
    "exon1=my_dna[0:62]\n",
    "intron=my_dna[62:90]\n",
    "exon2=my_dna[90:10000]\n",
    "coding_file = open(\"/home/eeb177-student/Desktop/Chapter 3/exercises/coding_dna.txt\",\"w\")\n",
    "noncoding_file = open(\"/home/eeb177-student/Desktop/Chapter 3/exercises/noncoding_dna.txt\",\"w\")\n",
    "coding_file.write(exon1+exon2)\n",
    "noncoding_file.write(intron)\n"
   ]
  },
  {
   "cell_type": "code",
   "execution_count": 3,
   "metadata": {
    "collapsed": false,
    "scrolled": true
   },
   "outputs": [
    {
     "name": "stdout",
     "output_type": "stream",
     "text": [
      ">ABC12\n",
      "ATCGTACGATCGATCGATCGCTAGACGTATCG\n",
      ">DEF456\n",
      "ACTGATCGACGATCGATCGATCACGACT\n",
      ">HIJ789\n",
      "ACTGACACTGTACTGTACATGTG\n"
     ]
    },
    {
     "data": {
      "text/plain": [
       "32"
      ]
     },
     "execution_count": 3,
     "metadata": {},
     "output_type": "execute_result"
    }
   ],
   "source": [
    "#Part 2. Writing a FASTA file.\n",
    "header_1=\"ABC12\"\n",
    "header_2=\"DEF456\"\n",
    "header_3=\"HIJ789\"\n",
    "seq_1=\"ATCGTACGATCGATCGATCGCTAGACGTATCG\"\n",
    "seq_2=\"actgatcgacgatcgatcgatcacgact\"\n",
    "seq_3=\"ACTGAC-ACTGT--ACTGTA---CATGTG\"\n",
    "print('>' + header_1 + '\\n' + seq_1)\n",
    "print('>' +header_2+ '\\n' +seq_2.upper())\n",
    "print('>'+ header_3+ '\\n' + seq_3.replace('-',''))\n",
    "\n",
    "output = open(\"/home/eeb177-student/Desktop/Chapter 3/exercises/sequences.fasta\",\"w\")\n",
    "output.write('>' + header_1 + '\\n' + seq_1+ '\\n')\n",
    "output.write('>' +header_2+ '\\n' +seq_2.upper()+ '\\n')\n",
    "output.write('>'+ header_3+ '\\n' + seq_3.replace('-','')+ '\\n')\n"
   ]
  },
  {
   "cell_type": "code",
   "execution_count": 20,
   "metadata": {
    "collapsed": false
   },
   "outputs": [
    {
     "name": "stdout",
     "output_type": "stream",
     "text": [
      "Processed sequence with length 43\n",
      "Processed sequence with length 38\n",
      "Processed sequence with length 49\n",
      "Processed sequence with length 34\n",
      "Processed sequence with length 48\n"
     ]
    }
   ],
   "source": [
    "#Processing DNA in a file. page 97.\n",
    "file= open(\"/home/eeb177-student/Desktop/Chapter 4/exercises/input.txt\")\n",
    "output=open(\"/home/eeb177-student/Desktop/Chapter 4/exercises/trimmed.txt\",\"w\")\n",
    "for dna in file:\n",
    "    last_character_position=len(dna)\n",
    "    trimmed_dna=dna[14:last_character_position]\n",
    "    output.write(trimmed_dna)\n",
    "    print(\"Processed sequence with length \" +str(len(trimmed_dna)))"
   ]
  },
  {
   "cell_type": "code",
   "execution_count": 26,
   "metadata": {
    "collapsed": false
   },
   "outputs": [],
   "source": [
    "#Multiple exons from genomic DNA. page 97.\n",
    "genomic_dna= open(\"/home/eeb177-student/Desktop/Chapter 3/exercises/genomic_dna.txt\").read()\n",
    "exon_locations=open(\"/home/eeb177-student/Desktop/Chapter 4/exercises/exons.txt\")\n",
    "coding_sequence=\"\"\n",
    "for line in exon_locations:\n",
    "    positions=line.split(',')\n",
    "    start=int(positions[0])\n",
    "    stop=int(positions[1])\n",
    "    exon=genomic_dna[start:stop]\n",
    "    coding_sequence=coding_sequence + exon\n",
    "    #print(\"coding sequence is: \" + coding_sequence)\n",
    "\n",
    "output=open(\"/home/eeb177-student/Desktop/Chapter 4/exercises/coding_sequence.txt\",\"w\")\n",
    "output.write(coding_sequence)\n",
    "output.close()"
   ]
  }
 ],
 "metadata": {
  "anaconda-cloud": {},
  "kernelspec": {
   "display_name": "Python [default]",
   "language": "python",
   "name": "python3"
  },
  "language_info": {
   "codemirror_mode": {
    "name": "ipython",
    "version": 3
   },
   "file_extension": ".py",
   "mimetype": "text/x-python",
   "name": "python",
   "nbconvert_exporter": "python",
   "pygments_lexer": "ipython3",
   "version": "3.5.2"
  }
 },
 "nbformat": 4,
 "nbformat_minor": 2
}
