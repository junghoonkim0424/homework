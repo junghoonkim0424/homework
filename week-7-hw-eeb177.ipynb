{
 "cells": [
  {
   "cell_type": "markdown",
   "metadata": {},
   "source": [
    "### Example 1. ###\n",
    "# List of Threatened Fishes reported from Korea (Republic of).#\n",
    "\n",
    "** Epinephelus akaara **\n",
    "\n",
    "FBname:Hong Kong grouper\n",
    "Weight:2470.0\n",
    "\n",
    "** Mola mola **\n",
    "\n",
    "FBname: Ocean sunfish\n",
    "\n",
    "Weight: 2300000.0\n",
    "\n",
    "\n",
    "** Narke japonica **\n",
    "\n",
    "FBname: apanese sleeper ray\n",
    "Weight: None\n",
    "\n",
    "\n",
    "\n",
    "** Thunnus orientalis **\n",
    "\n",
    "FBname: Pacific bluefin tuna\n",
    "Weight: 450000.0"
   ]
  }
 ],
 "metadata": {
  "anaconda-cloud": {},
  "kernelspec": {
   "display_name": "Python [default]",
   "language": "python",
   "name": "python3"
  },
  "language_info": {
   "codemirror_mode": {
    "name": "ipython",
    "version": 3
   },
   "file_extension": ".py",
   "mimetype": "text/x-python",
   "name": "python",
   "nbconvert_exporter": "python",
   "pygments_lexer": "ipython3",
   "version": "3.5.2"
  }
 },
 "nbformat": 4,
 "nbformat_minor": 2
}
