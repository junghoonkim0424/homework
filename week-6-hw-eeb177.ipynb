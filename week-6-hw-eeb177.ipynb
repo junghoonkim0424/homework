{
 "cells": [
  {
   "cell_type": "markdown",
   "metadata": {},
   "source": [
    "## Part1. Code Academy.\n",
    "\n",
    "\n",
    "![badge1](Python_Syntax.png)\n",
    "\n",
    "![badge2](Stringandconsoleoutput.png)\n",
    "\n",
    "![badge3](PygLatin.png)\n",
    "\n",
    "![badge4](ConditionalsandControlFlow.png)\n",
    "\n",
    "![badge5](Functions.png)\n",
    "\n",
    "![badge6](PythonListsandDictionariespng)\n",
    "\n",
    "![badge7](ListsandFunctions.png)\n",
    "\n",
    "![badge8](Loops.png)\n",
    "\n",
    "![badge9](PracticeMakesPerfect.png)"
   ]
  },
  {
   "cell_type": "markdown",
   "metadata": {},
   "source": [
    "## Part2.\n",
    "*From DNA sequence, I wanna find each codon without error.*\n",
    "*for take codon from DNA in DNA sequence.*\n",
    "*print out codon."
   ]
  },
  {
   "cell_type": "code",
   "execution_count": 2,
   "metadata": {
    "collapsed": false
   },
   "outputs": [
    {
     "name": "stdout",
     "output_type": "stream",
     "text": [
      "one codon isATG\n",
      "one codon isTTC\n",
      "one codon isGGT\n"
     ]
    }
   ],
   "source": [
    "dna = \"ATGTTCGGT\"\n",
    "for start in range(0,7,3):\n",
    "    codon = dna[start:start+3]\n",
    "    print(\"one codon is\" + codon)"
   ]
  },
  {
   "cell_type": "markdown",
   "metadata": {},
   "source": [
    "*It make an error if nucleobase numbers in DNAsequence is shorter or longer.*\n",
    "*length=calcualte the position of start and end codon.*\n",
    "*for codon in the DNAsequence*\n",
    "*x= extract one codon from the sequence*\n",
    "*print x*\n"
   ]
  },
  {
   "cell_type": "code",
   "execution_count": 5,
   "metadata": {
    "collapsed": false
   },
   "outputs": [
    {
     "name": "stdout",
     "output_type": "stream",
     "text": [
      "one codon is ATG\n",
      "one codon is TTC\n",
      "one codon is GGT\n"
     ]
    }
   ],
   "source": [
    "dna = \"ATGTTCGGT\"\n",
    "# calculate the start position for the final codon\n",
    "last_codon_start = len(dna)-2\n",
    "# process the dna sequence in three base chunks\n",
    "for start in range(0,last_codon_start,3):\n",
    "    codon = dna[start:start+3]\n",
    "    print(\"one codon is \" + codon)"
   ]
  },
  {
   "cell_type": "code",
   "execution_count": 6,
   "metadata": {
    "collapsed": false
   },
   "outputs": [
    {
     "name": "stdout",
     "output_type": "stream",
     "text": [
      "H\n",
      "V\n"
     ]
    }
   ],
   "source": [
    "gencode = {'ATA':'I', 'ATC':'I','ACA':'T', 'ACC':'T','AAC':'N', 'AAT':'N','AGC':'S', 'AGT':'S','CTA':'L', 'CTC':'L','CCA':'P', 'CCC':'P',\n",
    "'CAC':'H', 'CAT':'H','CGA':'R', 'CGC':'R','GTA':'V', 'GTC':'V','GCA':'A', 'GCC':'A','GAC':'D', 'GAT':'D','GGA':'G', 'GGC':'G','TCA':'S', 'TCC':'S',\n",
    "'TTC':'F', 'TTT':'F','TAC':'Y', 'TAT':'Y','TGC':'C', 'TGT':'C','ATT':'I','ACG':'T','AAA':'K','AGA':'R','CTG':'L',\n",
    "'CCG':'P','CAA':'Q','CGG':'R','GTG':'V','GCG':'A','GAA':'E','GGG':'G','TCG':'S','TTA':'L','TAA':'_',\n",
    "'TGA':'_','ATG':'M','ACT':'T','AAG':'K','AGG':'R','CTT':'L','CCT':'P','CAG':'Q','CGT':'R','GTT':'V','GCT':'A','GAG':'E','GGT':'G','TCT':'S','TTG':'L','TAG':'_','TGG':'W'}\n",
    "print(gencode['CAT'])\n",
    "print(gencode.get('GTC'))"
   ]
  },
  {
   "cell_type": "markdown",
   "metadata": {},
   "source": [
    "Using for loop again.\n",
    "For codon in DNA sequence.\n",
    "    Find codon\n",
    "    Find amino acid from the genecode list.\n",
    "    create protein sequence\n",
    "print codon and amino acid.\n",
    "\n",
    "print protein sequence."
   ]
  },
  {
   "cell_type": "code",
   "execution_count": 7,
   "metadata": {
    "collapsed": false
   },
   "outputs": [
    {
     "name": "stdout",
     "output_type": "stream",
     "text": [
      "one codon is ATG\n",
      "the amino acid is M\n",
      "one codon is TTC\n",
      "the amino acid is F\n",
      "one codon is GGT\n",
      "the amino acid is G\n",
      "protein sequence is MFG\n"
     ]
    }
   ],
   "source": [
    "dna = \"ATGTTCGGT\"\n",
    "last_codon_start = len(dna) - 2\n",
    "protein = \"\"\n",
    "for start in range(0,last_codon_start,3):\n",
    "    codon = dna[start:start+3]\n",
    "    aa = gencode.get(codon)\n",
    "    print(\"one codon is \" + codon)\n",
    "    print(\"the amino acid is \" + aa)\n",
    "    protein = protein + aa\n",
    "print(\"protein sequence is \" + protein)"
   ]
  },
  {
   "cell_type": "markdown",
   "metadata": {},
   "source": [
    "Convert codon in the DNA sequence to upper case.\n",
    "In the for loop, find codon in the DNA sequence,\n",
    "xx=genecode dictionary, get the value of found codon.\n",
    "print out xx."
   ]
  },
  {
   "cell_type": "code",
   "execution_count": 8,
   "metadata": {
    "collapsed": true
   },
   "outputs": [],
   "source": [
    "def translate_dna(dna):\n",
    "    last_codon_start = len(dna) - 2\n",
    "    protein = \"\"\n",
    "    for start in range(0,last_codon_start,3):\n",
    "        codon = dna[start:start+3]\n",
    "        aa = gencode.get(codon.upper())\n",
    "        protein = protein + aa\n",
    "    return protein"
   ]
  },
  {
   "cell_type": "markdown",
   "metadata": {},
   "source": [
    "*adding a argument to make function work only for unambiguous bases.*\n",
    "*When encounter codon which does not exist in the genecode dictionary,*\n",
    "*need to return x for that*\n",
    "\n",
    "In for loop,\n",
    "    From given codon,\n",
    "    xx=function that find value from genecode dictionary, return 'X' in case there is no key\n",
    "    matches in the dictionary.\n",
    "    "
   ]
  },
  {
   "cell_type": "code",
   "execution_count": 9,
   "metadata": {
    "collapsed": false
   },
   "outputs": [
    {
     "name": "stdout",
     "output_type": "stream",
     "text": [
      "MFG\n",
      "IDRSLLIDQ\n",
      "TDRSLLTYR\n",
      "TIDRXVRSYS\n"
     ]
    }
   ],
   "source": [
    "def translate_dna(dna):\n",
    "    last_codon_start = len(dna) - 2\n",
    "    protein = \"\"\n",
    "    for start in range(0,last_codon_start,3):\n",
    "        codon = dna[start:start+3]\n",
    "        aa = gencode.get(codon.upper(), 'X')\n",
    "        protein = protein + aa\n",
    "    return protein\n",
    "\n",
    "print(translate_dna(\"ATGTTCGGT\"))\n",
    "print(translate_dna(\"ATCGATCGATCGTTGCTTATCGATCAG\"))\n",
    "print(translate_dna(\"actgatcgtagcttgcttacgtatcgtat\"))\n",
    "print(translate_dna(\"ACGATCGATCGTNACGTACGATCGTACTCG\"))"
   ]
  },
  {
   "cell_type": "code",
   "execution_count": 1,
   "metadata": {
    "collapsed": false
   },
   "outputs": [
    {
     "name": "stdout",
     "output_type": "stream",
     "text": [
      "An allele reached fixation at generation 223\n",
      "The genotype counts are\n",
      "{'aa': 0, 'aA': 0, 'Aa': 0, 'AA': 100}\n",
      "An allele reached fixation at generation 265\n",
      "The genotype counts are\n",
      "{'aa': 0, 'aA': 0, 'Aa': 0, 'AA': 100}\n"
     ]
    }
   ],
   "source": [
    "#Part3. population function.\n",
    "import scipy\n",
    "\n",
    "def build_population(N, p):\n",
    "    population = []\n",
    "    for i in range(N):\n",
    "        allele1 = \"A\"\n",
    "        if scipy.random.rand() > p:\n",
    "            allele1 = \"a\"\n",
    "        allele2 = \"A\"\n",
    "        if scipy.random.rand() > p:\n",
    "            allele2 = \"a\"\n",
    "        population.append((allele1, allele2))\n",
    "    return population\n",
    "\n",
    "def compute_frequencies(population):\n",
    "    AA = population.count(('A','A'))\n",
    "    Aa = population.count(('A','a'))\n",
    "    aA = population.count(('a','A'))\n",
    "    aa = population.count(('a','a'))\n",
    "    return ({'AA': AA,'aa': aa,'Aa': Aa,'aA': aA})\n",
    "             \n",
    "\n",
    "def reproduce_population(population):\n",
    "    new_generation = []\n",
    "    N = len(population)\n",
    "    for i in range(N):\n",
    "        dad = scipy.random.randint(N) \n",
    "        mom = scipy.random.randint(N)\n",
    "        chr_mom = scipy.random.randint(2)\n",
    "        offspring = (population[mom][chr_mom], population[dad][1 - chr_mom])\n",
    "        new_generation.append(offspring)\n",
    "    return(new_generation)\n",
    "\n",
    "def simulate_drift(N, p):\n",
    "# initialize the population\n",
    "    my_pop = build_population(N, p)\n",
    "    fixation = False\n",
    "    num_generations = 0\n",
    "    while fixation == False:\n",
    "# compute genotype counts\n",
    "        genotype_counts = compute_frequencies(my_pop)\n",
    "# if one allele went to fixation, end the simulation\n",
    "        if genotype_counts['AA'] == N or genotype_counts['aa'] == N:\n",
    "            print('An allele reached fixation at generation',num_generations)\n",
    "            print('The genotype counts are')\n",
    "            print(genotype_counts)\n",
    "            fixation == True\n",
    "            break\n",
    "# if not, reproduce\n",
    "        my_pop = reproduce_population(my_pop)\n",
    "        num_generations = num_generations + 1\n",
    "\n",
    "simulate_drift(100, 0.5)\n",
    "simulate_drift(100, 0.9)"
   ]
  },
  {
   "cell_type": "code",
   "execution_count": 6,
   "metadata": {
    "collapsed": false
   },
   "outputs": [
    {
     "name": "stdout",
     "output_type": "stream",
     "text": [
      "0.39719005173783783\n"
     ]
    }
   ],
   "source": [
    "# 4.9.1 pg.113.\n",
    "import csv\n",
    "\n",
    "with open(\"/home/eeb177-student/Desktop/newJiang.csv\", \"r\")as Jiang:\n",
    "    data=csv.DictReader(Jiang, delimiter=\",\")\n",
    "    taxon=[]\n",
    "    rvalue=[]\n",
    "    for x in data:\n",
    "        taxon.append(x[\"Taxon\"])\n",
    "        rvalue.append(float(x[\"r\"]))\n",
    "\n",
    "def Rcalculation (name,value,target=\"input_taxon\"):\n",
    "   # n=len(name)\n",
    "    rsum=0.0\n",
    "    taxonsum=0.0\n",
    "    answer=0.0\n",
    "    for i in range(len(name)):\n",
    "        if name[i] == target:\n",
    "            rsum=rsum + value[i]\n",
    "            taxonsum=taxonsum+1\n",
    "    answer=rsum/taxonsum\n",
    "    print(answer)\n",
    "    \n",
    "Rcalculation(taxon,rvalue,\"Fish\")"
   ]
  }
 ],
 "metadata": {
  "anaconda-cloud": {},
  "kernelspec": {
   "display_name": "Python [default]",
   "language": "python",
   "name": "python3"
  },
  "language_info": {
   "codemirror_mode": {
    "name": "ipython",
    "version": 3
   },
   "file_extension": ".py",
   "mimetype": "text/x-python",
   "name": "python",
   "nbconvert_exporter": "python",
   "pygments_lexer": "ipython3",
   "version": "3.5.2"
  }
 },
 "nbformat": 4,
 "nbformat_minor": 2
}
