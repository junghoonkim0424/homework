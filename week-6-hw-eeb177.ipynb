{
 "cells": [
  {
   "cell_type": "markdown",
   "metadata": {},
   "source": [
    "## Part1. Code Academy.\n",
    "\n",
    "\n",
    "![badge1](Python_Syntax.png)\n",
    "\n",
    "![badge2](Stringandconsoleoutput.png)\n",
    "\n",
    "![badge3](PygLatin.png)\n",
    "\n",
    "![badge4](ConditionalsandControlFlow.png)\n",
    "\n",
    "![badge5](Functions.png)\n",
    "\n",
    "![badge6](PythonListsandDictionariespng)\n",
    "\n",
    "![badge7](ListsandFunctions.png)\n",
    "\n",
    "![badge8](Loops.png)\n",
    "\n",
    "![badge9](PracticeMakesPerfect.png)"
   ]
  },
  {
   "cell_type": "markdown",
   "metadata": {},
   "source": [
    "## Part2.\n",
    "*From DNA sequence, I wanna find each codon without error.*\n",
    "*for take codon from DNA in DNA sequence.*\n",
    "*print out codon."
   ]
  },
  {
   "cell_type": "code",
   "execution_count": 1,
   "metadata": {
    "collapsed": false
   },
   "outputs": [
    {
     "ename": "IndentationError",
     "evalue": "expected an indented block (<ipython-input-1-f6c77b587b6b>, line 3)",
     "output_type": "error",
     "traceback": [
      "\u001b[0;36m  File \u001b[0;32m\"<ipython-input-1-f6c77b587b6b>\"\u001b[0;36m, line \u001b[0;32m3\u001b[0m\n\u001b[0;31m    codon = dna[start:start+3]\u001b[0m\n\u001b[0m        ^\u001b[0m\n\u001b[0;31mIndentationError\u001b[0m\u001b[0;31m:\u001b[0m expected an indented block\n"
     ]
    }
   ],
   "source": [
    "dna = \"ATGTTCGGT\"\n",
    "for start in range(0,7,3):\n",
    "codon = dna[start:start+3]\n",
    "print(\"one codon is\" + codon)"
   ]
  },
  {
   "cell_type": "markdown",
   "metadata": {},
   "source": [
    "*It make an error if nucleobase numbers in DNAsequence is shorter or longer.*\n",
    "*length=calcualte the position of start and end codon.*\n",
    "*for codon in the DNAsequence*\n",
    "*x= extract one codon from the sequence*\n",
    "*print x*\n"
   ]
  },
  {
   "cell_type": "code",
   "execution_count": 2,
   "metadata": {
    "collapsed": false
   },
   "outputs": [
    {
     "ename": "SyntaxError",
     "evalue": "invalid character in identifier (<ipython-input-2-8dc44c1f537c>, line 3)",
     "output_type": "error",
     "traceback": [
      "\u001b[0;36m  File \u001b[0;32m\"<ipython-input-2-8dc44c1f537c>\"\u001b[0;36m, line \u001b[0;32m3\u001b[0m\n\u001b[0;31m    last_codon_start = len(dna) – 2\u001b[0m\n\u001b[0m                                ^\u001b[0m\n\u001b[0;31mSyntaxError\u001b[0m\u001b[0;31m:\u001b[0m invalid character in identifier\n"
     ]
    }
   ],
   "source": [
    "dna = \"ATGTTCGGT\"\n",
    "# calculate the start position for the final codon\n",
    "last_codon_start = len(dna) – 2\n",
    "# process the dna sequence in three base chunks\n",
    "for start in range(0,last_codon_start,3):\n",
    "codon = dna[start:start+3]\n",
    "print(\"one codon is \" + codon)"
   ]
  },
  {
   "cell_type": "code",
   "execution_count": 3,
   "metadata": {
    "collapsed": false
   },
   "outputs": [
    {
     "name": "stdout",
     "output_type": "stream",
     "text": [
      "H\n",
      "V\n"
     ]
    }
   ],
   "source": [
    "gencode = {'ATA':'I', 'ATC':'I','ACA':'T', 'ACC':'T','AAC':'N', 'AAT':'N','AGC':'S', 'AGT':'S','CTA':'L', 'CTC':'L','CCA':'P', 'CCC':'P',\n",
    "'CAC':'H', 'CAT':'H','CGA':'R', 'CGC':'R','GTA':'V', 'GTC':'V','GCA':'A', 'GCC':'A','GAC':'D', 'GAT':'D','GGA':'G', 'GGC':'G','TCA':'S', 'TCC':'S',\n",
    "'TTC':'F', 'TTT':'F','TAC':'Y', 'TAT':'Y','TGC':'C', 'TGT':'C','ATT':'I','ACG':'T','AAA':'K','AGA':'R','CTG':'L',\n",
    "'CCG':'P','CAA':'Q','CGG':'R','GTG':'V','GCG':'A','GAA':'E','GGG':'G','TCG':'S','TTA':'L','TAA':'_',\n",
    "'TGA':'_','ATG':'M','ACT':'T','AAG':'K','AGG':'R','CTT':'L','CCT':'P','CAG':'Q','CGT':'R','GTT':'V','GCT':'A','GAG':'E','GGT':'G','TCT':'S','TTG':'L','TAG':'_','TGG':'W'}\n",
    "print(gencode['CAT'])\n",
    "print(gencode.get('GTC'))"
   ]
  },
  {
   "cell_type": "markdown",
   "metadata": {},
   "source": [
    "Using for loop again.\n",
    "For codon in DNA sequence.\n",
    "    Find codon\n",
    "    Find amino acid from the genecode list.\n",
    "    create protein sequence\n",
    "print codon and amino acid.\n",
    "\n",
    "print protein sequence."
   ]
  },
  {
   "cell_type": "code",
   "execution_count": 4,
   "metadata": {
    "collapsed": false
   },
   "outputs": [
    {
     "name": "stdout",
     "output_type": "stream",
     "text": [
      "one codon is ATG\n",
      "the amino acid is M\n",
      "one codon is TTC\n",
      "the amino acid is F\n",
      "one codon is GGT\n",
      "the amino acid is G\n",
      "protein sequence is MFG\n"
     ]
    }
   ],
   "source": [
    "dna = \"ATGTTCGGT\"\n",
    "last_codon_start = len(dna) - 2\n",
    "protein = \"\"\n",
    "for start in range(0,last_codon_start,3):\n",
    "    codon = dna[start:start+3]\n",
    "    aa = gencode.get(codon)\n",
    "    print(\"one codon is \" + codon)\n",
    "    print(\"the amino acid is \" + aa)\n",
    "    protein = protein + aa\n",
    "print(\"protein sequence is \" + protein)"
   ]
  },
  {
   "cell_type": "markdown",
   "metadata": {},
   "source": [
    "Convert codon in the DNA sequence to upper case.\n",
    "In the for loop, find codon in the DNA sequence,\n",
    "xx=genecode dictionary, get the value of found codon.\n",
    "print out xx."
   ]
  },
  {
   "cell_type": "code",
   "execution_count": 5,
   "metadata": {
    "collapsed": true
   },
   "outputs": [],
   "source": [
    "def translate_dna(dna):\n",
    "    last_codon_start = len(dna) - 2\n",
    "    protein = \"\"\n",
    "    for start in range(0,last_codon_start,3):\n",
    "        codon = dna[start:start+3]\n",
    "        aa = gencode.get(codon.upper())\n",
    "        protein = protein + aa\n",
    "    return protein"
   ]
  },
  {
   "cell_type": "markdown",
   "metadata": {},
   "source": [
    "*adding a argument to make function work only for unambiguous bases.*\n",
    "*When encounter codon which does not exist in the genecode dictionary,*\n",
    "*need to return x for that*\n",
    "\n",
    "In for loop,\n",
    "    From given codon,\n",
    "    xx=function that find value from genecode dictionary, return 'X' in case there is no key\n",
    "    matches in the dictionary.\n",
    "    "
   ]
  },
  {
   "cell_type": "code",
   "execution_count": 6,
   "metadata": {
    "collapsed": false
   },
   "outputs": [
    {
     "name": "stdout",
     "output_type": "stream",
     "text": [
      "MFG\n",
      "IDRSLLIDQ\n",
      "TDRSLLTYR\n",
      "TIDRXVRSYS\n"
     ]
    }
   ],
   "source": [
    "def translate_dna(dna):\n",
    "    last_codon_start = len(dna) - 2\n",
    "    protein = \"\"\n",
    "    for start in range(0,last_codon_start,3):\n",
    "        codon = dna[start:start+3]\n",
    "        aa = gencode.get(codon.upper(), 'X')\n",
    "        protein = protein + aa\n",
    "    return protein\n",
    "\n",
    "print(translate_dna(\"ATGTTCGGT\"))\n",
    "print(translate_dna(\"ATCGATCGATCGTTGCTTATCGATCAG\"))\n",
    "print(translate_dna(\"actgatcgtagcttgcttacgtatcgtat\"))\n",
    "print(translate_dna(\"ACGATCGATCGTNACGTACGATCGTACTCG\"))"
   ]
  },
  {
   "cell_type": "code",
   "execution_count": null,
   "metadata": {
    "collapsed": true
   },
   "outputs": [],
   "source": []
  }
 ],
 "metadata": {
  "anaconda-cloud": {},
  "kernelspec": {
   "display_name": "Python [default]",
   "language": "python",
   "name": "python3"
  },
  "language_info": {
   "codemirror_mode": {
    "name": "ipython",
    "version": 3
   },
   "file_extension": ".py",
   "mimetype": "text/x-python",
   "name": "python",
   "nbconvert_exporter": "python",
   "pygments_lexer": "ipython3",
   "version": "3.5.2"
  }
 },
 "nbformat": 4,
 "nbformat_minor": 2
}
